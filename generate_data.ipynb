{
 "cells": [
  {
   "cell_type": "code",
   "execution_count": 1,
   "id": "knowing-pledge",
   "metadata": {},
   "outputs": [],
   "source": [
    "from aliquoting import *\n",
    "from distance import DirectedCopyNumberDistanceLinear"
   ]
  },
  {
   "cell_type": "code",
   "execution_count": 2,
   "id": "hybrid-attempt",
   "metadata": {},
   "outputs": [],
   "source": [
    "import numpy as np\n",
    "import pandas as pd\n",
    "from timeit import default_timer as timer\n",
    "from tqdm.notebook import tqdm, trange"
   ]
  },
  {
   "cell_type": "markdown",
   "id": "accepting-exhibition",
   "metadata": {},
   "source": [
    "# Functions for generating simulated inputs"
   ]
  },
  {
   "cell_type": "code",
   "execution_count": 3,
   "id": "played-employee",
   "metadata": {},
   "outputs": [],
   "source": [
    "def get_cnt(n, num):\n",
    "    \"\"\"Generate a random CNT of num operations,\n",
    "    for profiles of size n\"\"\"\n",
    "    for _ in range(num):\n",
    "        length = np.random.randint(1,n+1)\n",
    "        start = np.random.randint(1, n+2-length)\n",
    "        if np.random.rand() < 0.75: \n",
    "            # generate deletions more often (w.p. 3/4)\n",
    "            yield (start, start+length-1, -1)\n",
    "        else: # amplifications\n",
    "            yield (start, start+length-1, +1)"
   ]
  },
  {
   "cell_type": "code",
   "execution_count": 4,
   "id": "pleased-billion",
   "metadata": {},
   "outputs": [],
   "source": [
    "class ZeroException(Exception):\n",
    "    \"\"\"Used for implementing rejection sampling\"\"\"\n",
    "    pass\n",
    "\n",
    "def apply_cnt(S, cnt):\n",
    "    \"\"\"Apply the transformation cnt to the profile S,\n",
    "    making sure there are no zeroes in the final profile.\"\"\"\n",
    "    S2 = np.copy(S)\n",
    "    for (start,end,w) in cnt:\n",
    "        if w == -1:\n",
    "            if 1 in S2[start-1:end]:\n",
    "                raise ZeroException()\n",
    "            else:\n",
    "                S2[start-1:end] -= 1\n",
    "        else: # w == 1\n",
    "            S2[start-1:end] += 1\n",
    "    return S2"
   ]
  },
  {
   "cell_type": "code",
   "execution_count": 5,
   "id": "korean-resolution",
   "metadata": {},
   "outputs": [],
   "source": [
    "def gen_T(n, p, k, num):\n",
    "    \"\"\"Generate a random preduplication profile and CNT\"\"\"\n",
    "    for _ in range(num):\n",
    "        S = np.random.randint(1,6,size=(n,))\n",
    "        pS = p * S\n",
    "        T = None\n",
    "        while True:\n",
    "            try:\n",
    "                cnt = list(get_cnt(n, k))\n",
    "                T = apply_cnt(pS, cnt)\n",
    "                break\n",
    "            except ZeroException:\n",
    "                # we don't want final profiles that have zeroes\n",
    "                continue\n",
    "        assert T is not None\n",
    "        cnd = DirectedCopyNumberDistanceLinear(pS,T)\n",
    "        yield (S, T, cnt, cnd)"
   ]
  },
  {
   "cell_type": "markdown",
   "id": "documentary-payday",
   "metadata": {},
   "source": [
    "# Generate and test simulated inputs "
   ]
  },
  {
   "cell_type": "code",
   "execution_count": 6,
   "id": "perceived-winter",
   "metadata": {},
   "outputs": [
    {
     "data": {
      "application/vnd.jupyter.widget-view+json": {
       "model_id": "9db2f52f01064817b1d597034db8d6b8",
       "version_major": 2,
       "version_minor": 0
      },
      "text/plain": [
       "n:   0%|          | 0/3 [00:00<?, ?it/s]"
      ]
     },
     "metadata": {},
     "output_type": "display_data"
    },
    {
     "data": {
      "application/vnd.jupyter.widget-view+json": {
       "model_id": "1b30194efa7d4c3abd6021674203b56e",
       "version_major": 2,
       "version_minor": 0
      },
      "text/plain": [
       "p:   0%|          | 0/3 [00:00<?, ?it/s]"
      ]
     },
     "metadata": {},
     "output_type": "display_data"
    },
    {
     "data": {
      "application/vnd.jupyter.widget-view+json": {
       "model_id": "5ec9b8c1537b4d038e7196f3e3ff152e",
       "version_major": 2,
       "version_minor": 0
      },
      "text/plain": [
       "k:   0%|          | 0/3 [00:00<?, ?it/s]"
      ]
     },
     "metadata": {},
     "output_type": "display_data"
    },
    {
     "data": {
      "application/vnd.jupyter.widget-view+json": {
       "model_id": "8234018e5ec0431398e425d1f28ff3b7",
       "version_major": 2,
       "version_minor": 0
      },
      "text/plain": [
       "  0%|          | 0/100 [00:00<?, ?it/s]"
      ]
     },
     "metadata": {},
     "output_type": "display_data"
    },
    {
     "data": {
      "application/vnd.jupyter.widget-view+json": {
       "model_id": "f6b08aede7a0474ba4c89d5d22f43661",
       "version_major": 2,
       "version_minor": 0
      },
      "text/plain": [
       "  0%|          | 0/100 [00:00<?, ?it/s]"
      ]
     },
     "metadata": {},
     "output_type": "display_data"
    },
    {
     "data": {
      "application/vnd.jupyter.widget-view+json": {
       "model_id": "0f8aa32f41174785a66d6b8001d19369",
       "version_major": 2,
       "version_minor": 0
      },
      "text/plain": [
       "  0%|          | 0/100 [00:00<?, ?it/s]"
      ]
     },
     "metadata": {},
     "output_type": "display_data"
    },
    {
     "data": {
      "application/vnd.jupyter.widget-view+json": {
       "model_id": "bc8b6677009346b99684b410baed3616",
       "version_major": 2,
       "version_minor": 0
      },
      "text/plain": [
       "k:   0%|          | 0/3 [00:00<?, ?it/s]"
      ]
     },
     "metadata": {},
     "output_type": "display_data"
    },
    {
     "data": {
      "application/vnd.jupyter.widget-view+json": {
       "model_id": "ca004f8630bd416ab537f9768bcf5da3",
       "version_major": 2,
       "version_minor": 0
      },
      "text/plain": [
       "  0%|          | 0/100 [00:00<?, ?it/s]"
      ]
     },
     "metadata": {},
     "output_type": "display_data"
    },
    {
     "data": {
      "application/vnd.jupyter.widget-view+json": {
       "model_id": "00d57ffe903b4cec882f6d42692c8bd2",
       "version_major": 2,
       "version_minor": 0
      },
      "text/plain": [
       "  0%|          | 0/100 [00:00<?, ?it/s]"
      ]
     },
     "metadata": {},
     "output_type": "display_data"
    },
    {
     "data": {
      "application/vnd.jupyter.widget-view+json": {
       "model_id": "b9749df330214be4ad99223f9f532ede",
       "version_major": 2,
       "version_minor": 0
      },
      "text/plain": [
       "  0%|          | 0/100 [00:00<?, ?it/s]"
      ]
     },
     "metadata": {},
     "output_type": "display_data"
    },
    {
     "data": {
      "application/vnd.jupyter.widget-view+json": {
       "model_id": "08d445c9e9c3467dbfe5dcfb759d94d3",
       "version_major": 2,
       "version_minor": 0
      },
      "text/plain": [
       "k:   0%|          | 0/3 [00:00<?, ?it/s]"
      ]
     },
     "metadata": {},
     "output_type": "display_data"
    },
    {
     "data": {
      "application/vnd.jupyter.widget-view+json": {
       "model_id": "803734b2802e45759f8ef28771951b61",
       "version_major": 2,
       "version_minor": 0
      },
      "text/plain": [
       "  0%|          | 0/100 [00:00<?, ?it/s]"
      ]
     },
     "metadata": {},
     "output_type": "display_data"
    },
    {
     "data": {
      "application/vnd.jupyter.widget-view+json": {
       "model_id": "cfebb3a0d01c4581b5d920ac692b0be7",
       "version_major": 2,
       "version_minor": 0
      },
      "text/plain": [
       "  0%|          | 0/100 [00:00<?, ?it/s]"
      ]
     },
     "metadata": {},
     "output_type": "display_data"
    },
    {
     "data": {
      "application/vnd.jupyter.widget-view+json": {
       "model_id": "4a6c6b2e13c74e788221baa8fe123d86",
       "version_major": 2,
       "version_minor": 0
      },
      "text/plain": [
       "  0%|          | 0/100 [00:00<?, ?it/s]"
      ]
     },
     "metadata": {},
     "output_type": "display_data"
    },
    {
     "data": {
      "application/vnd.jupyter.widget-view+json": {
       "model_id": "def066c24d9b4176958130cb88456a04",
       "version_major": 2,
       "version_minor": 0
      },
      "text/plain": [
       "p:   0%|          | 0/3 [00:00<?, ?it/s]"
      ]
     },
     "metadata": {},
     "output_type": "display_data"
    },
    {
     "data": {
      "application/vnd.jupyter.widget-view+json": {
       "model_id": "c3bf8a90f32a4bd2b794dbab448f5472",
       "version_major": 2,
       "version_minor": 0
      },
      "text/plain": [
       "k:   0%|          | 0/3 [00:00<?, ?it/s]"
      ]
     },
     "metadata": {},
     "output_type": "display_data"
    },
    {
     "data": {
      "application/vnd.jupyter.widget-view+json": {
       "model_id": "037ba0581b4a4de59384779effbf18b2",
       "version_major": 2,
       "version_minor": 0
      },
      "text/plain": [
       "  0%|          | 0/100 [00:00<?, ?it/s]"
      ]
     },
     "metadata": {},
     "output_type": "display_data"
    },
    {
     "data": {
      "application/vnd.jupyter.widget-view+json": {
       "model_id": "21c3b96f0d954e519c246c1c2760ff35",
       "version_major": 2,
       "version_minor": 0
      },
      "text/plain": [
       "  0%|          | 0/100 [00:00<?, ?it/s]"
      ]
     },
     "metadata": {},
     "output_type": "display_data"
    },
    {
     "data": {
      "application/vnd.jupyter.widget-view+json": {
       "model_id": "ea874e837797433da8891306c16f8c8b",
       "version_major": 2,
       "version_minor": 0
      },
      "text/plain": [
       "  0%|          | 0/100 [00:00<?, ?it/s]"
      ]
     },
     "metadata": {},
     "output_type": "display_data"
    },
    {
     "data": {
      "application/vnd.jupyter.widget-view+json": {
       "model_id": "1fac1e17a704494fb3422e6ae14724ef",
       "version_major": 2,
       "version_minor": 0
      },
      "text/plain": [
       "k:   0%|          | 0/3 [00:00<?, ?it/s]"
      ]
     },
     "metadata": {},
     "output_type": "display_data"
    },
    {
     "data": {
      "application/vnd.jupyter.widget-view+json": {
       "model_id": "30c1aa469ea444258590f23fdfb6a8a2",
       "version_major": 2,
       "version_minor": 0
      },
      "text/plain": [
       "  0%|          | 0/100 [00:00<?, ?it/s]"
      ]
     },
     "metadata": {},
     "output_type": "display_data"
    },
    {
     "data": {
      "application/vnd.jupyter.widget-view+json": {
       "model_id": "eb383cb9f8194c88a24182ddf0a4fb4d",
       "version_major": 2,
       "version_minor": 0
      },
      "text/plain": [
       "  0%|          | 0/100 [00:00<?, ?it/s]"
      ]
     },
     "metadata": {},
     "output_type": "display_data"
    },
    {
     "data": {
      "application/vnd.jupyter.widget-view+json": {
       "model_id": "72eb5a05c19c4d5e877ac3cd01c578a1",
       "version_major": 2,
       "version_minor": 0
      },
      "text/plain": [
       "  0%|          | 0/100 [00:00<?, ?it/s]"
      ]
     },
     "metadata": {},
     "output_type": "display_data"
    },
    {
     "data": {
      "application/vnd.jupyter.widget-view+json": {
       "model_id": "c850ecebdd6d40e18bca8860eaa21d76",
       "version_major": 2,
       "version_minor": 0
      },
      "text/plain": [
       "k:   0%|          | 0/3 [00:00<?, ?it/s]"
      ]
     },
     "metadata": {},
     "output_type": "display_data"
    },
    {
     "data": {
      "application/vnd.jupyter.widget-view+json": {
       "model_id": "7351ded9f14843a2a701defe92491c3d",
       "version_major": 2,
       "version_minor": 0
      },
      "text/plain": [
       "  0%|          | 0/100 [00:00<?, ?it/s]"
      ]
     },
     "metadata": {},
     "output_type": "display_data"
    },
    {
     "data": {
      "application/vnd.jupyter.widget-view+json": {
       "model_id": "da1b42651a7d4aa1ae28903097a0f908",
       "version_major": 2,
       "version_minor": 0
      },
      "text/plain": [
       "  0%|          | 0/100 [00:00<?, ?it/s]"
      ]
     },
     "metadata": {},
     "output_type": "display_data"
    },
    {
     "data": {
      "application/vnd.jupyter.widget-view+json": {
       "model_id": "cf12489109524a928a5f6baabcf83f01",
       "version_major": 2,
       "version_minor": 0
      },
      "text/plain": [
       "  0%|          | 0/100 [00:00<?, ?it/s]"
      ]
     },
     "metadata": {},
     "output_type": "display_data"
    },
    {
     "data": {
      "application/vnd.jupyter.widget-view+json": {
       "model_id": "0545d0feb4354b85aa6229d96c0f2ede",
       "version_major": 2,
       "version_minor": 0
      },
      "text/plain": [
       "p:   0%|          | 0/3 [00:00<?, ?it/s]"
      ]
     },
     "metadata": {},
     "output_type": "display_data"
    },
    {
     "data": {
      "application/vnd.jupyter.widget-view+json": {
       "model_id": "6fe33285164e48aea7f4927402bd803a",
       "version_major": 2,
       "version_minor": 0
      },
      "text/plain": [
       "k:   0%|          | 0/3 [00:00<?, ?it/s]"
      ]
     },
     "metadata": {},
     "output_type": "display_data"
    },
    {
     "data": {
      "application/vnd.jupyter.widget-view+json": {
       "model_id": "2178705af4f34c2cba910cd3397ca3e5",
       "version_major": 2,
       "version_minor": 0
      },
      "text/plain": [
       "  0%|          | 0/100 [00:00<?, ?it/s]"
      ]
     },
     "metadata": {},
     "output_type": "display_data"
    },
    {
     "data": {
      "application/vnd.jupyter.widget-view+json": {
       "model_id": "6301974037bc4d3694fa948e784da364",
       "version_major": 2,
       "version_minor": 0
      },
      "text/plain": [
       "  0%|          | 0/100 [00:00<?, ?it/s]"
      ]
     },
     "metadata": {},
     "output_type": "display_data"
    },
    {
     "data": {
      "application/vnd.jupyter.widget-view+json": {
       "model_id": "7c9cedac311f478c81b5edbdecc5e435",
       "version_major": 2,
       "version_minor": 0
      },
      "text/plain": [
       "  0%|          | 0/100 [00:00<?, ?it/s]"
      ]
     },
     "metadata": {},
     "output_type": "display_data"
    },
    {
     "data": {
      "application/vnd.jupyter.widget-view+json": {
       "model_id": "0ce94b8fe013425d8303cc0f9de3e11b",
       "version_major": 2,
       "version_minor": 0
      },
      "text/plain": [
       "k:   0%|          | 0/3 [00:00<?, ?it/s]"
      ]
     },
     "metadata": {},
     "output_type": "display_data"
    },
    {
     "data": {
      "application/vnd.jupyter.widget-view+json": {
       "model_id": "9631c614af5c4eb6be88da284e0e6e4c",
       "version_major": 2,
       "version_minor": 0
      },
      "text/plain": [
       "  0%|          | 0/100 [00:00<?, ?it/s]"
      ]
     },
     "metadata": {},
     "output_type": "display_data"
    },
    {
     "data": {
      "application/vnd.jupyter.widget-view+json": {
       "model_id": "7b251f15e99744e1bcf4259776018591",
       "version_major": 2,
       "version_minor": 0
      },
      "text/plain": [
       "  0%|          | 0/100 [00:00<?, ?it/s]"
      ]
     },
     "metadata": {},
     "output_type": "display_data"
    },
    {
     "data": {
      "application/vnd.jupyter.widget-view+json": {
       "model_id": "3b024f799f804d868907b97ff92872af",
       "version_major": 2,
       "version_minor": 0
      },
      "text/plain": [
       "  0%|          | 0/100 [00:00<?, ?it/s]"
      ]
     },
     "metadata": {},
     "output_type": "display_data"
    },
    {
     "data": {
      "application/vnd.jupyter.widget-view+json": {
       "model_id": "9cdd86da896842c5a2b962da3b2a9d45",
       "version_major": 2,
       "version_minor": 0
      },
      "text/plain": [
       "k:   0%|          | 0/3 [00:00<?, ?it/s]"
      ]
     },
     "metadata": {},
     "output_type": "display_data"
    },
    {
     "data": {
      "application/vnd.jupyter.widget-view+json": {
       "model_id": "742e42c2c56d4ded90ce5df050b2174b",
       "version_major": 2,
       "version_minor": 0
      },
      "text/plain": [
       "  0%|          | 0/100 [00:00<?, ?it/s]"
      ]
     },
     "metadata": {},
     "output_type": "display_data"
    },
    {
     "data": {
      "application/vnd.jupyter.widget-view+json": {
       "model_id": "d267e003e25a4d4097b64ad821d03939",
       "version_major": 2,
       "version_minor": 0
      },
      "text/plain": [
       "  0%|          | 0/100 [00:00<?, ?it/s]"
      ]
     },
     "metadata": {},
     "output_type": "display_data"
    },
    {
     "data": {
      "application/vnd.jupyter.widget-view+json": {
       "model_id": "15fdf2439ccf46f98551ccfe2c865b10",
       "version_major": 2,
       "version_minor": 0
      },
      "text/plain": [
       "  0%|          | 0/100 [00:00<?, ?it/s]"
      ]
     },
     "metadata": {},
     "output_type": "display_data"
    }
   ],
   "source": [
    "outputs = []\n",
    "np.random.seed(2021)\n",
    "\n",
    "num = 100\n",
    "for n in tqdm([100,200,300], desc='n'):\n",
    "    for p in tqdm([2,3,4], desc='p'):\n",
    "        for k in tqdm([5,10, 15], desc='k'):\n",
    "            for S, T, cnt, cnd in tqdm(gen_T(n, p, k, num), total=num):\n",
    "                if p >= 3:\n",
    "                    start_time = timer()\n",
    "                    T_tag,idx,mapping = contract_mod_p(T,p)\n",
    "                    dist, S_tag = cnd_aliquoting_I(T_tag,p)[:2]\n",
    "                    S_ = update_S(S_tag,T,idx,mapping,p)\n",
    "                    end_time = timer()\n",
    "                    T_runs = len(T_tag)\n",
    "                else: # p == 2: use halving algorithm\n",
    "                    start_time = timer()\n",
    "                    dist, S_ = cnd_halving(T)\n",
    "                    end_time = timer()\n",
    "                    T_runs = odd_runs(T)\n",
    "                time_elapsed = end_time - start_time\n",
    "                predup_dist = DirectedCopyNumberDistanceLinear(S, S_)\n",
    "                outputs.append({\n",
    "                    'n': n,\n",
    "                    'p': p,\n",
    "                    'k': k,\n",
    "                    'S': S,\n",
    "                    'T': T,\n",
    "                    'T_runs': T_runs,\n",
    "                    'cnt': cnt,\n",
    "                    'd(pS,T)': cnd,\n",
    "                    'n2_time': time_elapsed,\n",
    "                    'S_': S_,\n",
    "                    'd(pS_,T)': dist,\n",
    "                    'd(S_,S)': predup_dist,\n",
    "                })"
   ]
  },
  {
   "cell_type": "code",
   "execution_count": 7,
   "id": "previous-barrier",
   "metadata": {},
   "outputs": [],
   "source": [
    "df = pd.DataFrame.from_records(outputs)"
   ]
  },
  {
   "cell_type": "code",
   "execution_count": 8,
   "id": "moved-craft",
   "metadata": {},
   "outputs": [],
   "source": [
    "df.to_pickle('outputs.pkl')"
   ]
  }
 ],
 "metadata": {
  "kernelspec": {
   "display_name": "Python 3",
   "language": "python",
   "name": "python3"
  },
  "language_info": {
   "codemirror_mode": {
    "name": "ipython",
    "version": 3
   },
   "file_extension": ".py",
   "mimetype": "text/x-python",
   "name": "python",
   "nbconvert_exporter": "python",
   "pygments_lexer": "ipython3",
   "version": "3.9.2"
  }
 },
 "nbformat": 4,
 "nbformat_minor": 5
}
