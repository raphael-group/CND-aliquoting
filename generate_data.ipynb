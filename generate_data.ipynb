{
 "cells": [
  {
   "cell_type": "code",
   "execution_count": 1,
   "id": "hybrid-attempt",
   "metadata": {},
   "outputs": [],
   "source": [
    "import numpy as np\n",
    "import pandas as pd\n",
    "from timeit import default_timer as timer\n",
    "from tqdm.notebook import tqdm, trange"
   ]
  },
  {
   "cell_type": "code",
   "execution_count": 2,
   "id": "progressive-elizabeth",
   "metadata": {},
   "outputs": [],
   "source": [
    "from gurobipy import *"
   ]
  },
  {
   "cell_type": "code",
   "execution_count": 3,
   "id": "further-satin",
   "metadata": {},
   "outputs": [],
   "source": [
    "from CopyNumberDistanceFunctions import *"
   ]
  },
  {
   "cell_type": "code",
   "execution_count": 4,
   "id": "rural-letter",
   "metadata": {},
   "outputs": [],
   "source": [
    "def contract_mod_p(V,p):\n",
    "    Vmodp = np.mod(V,p)\n",
    "    idx = []\n",
    "    mapping = {}\n",
    "    min_val_idx = 0\n",
    "    for i in range(1,len(V)):\n",
    "        if Vmodp[i]==Vmodp[i-1]:\n",
    "            if V[i]<V[min_val_idx]:\n",
    "                min_val_idx = i\n",
    "        else:\n",
    "            idx.append(min_val_idx)\n",
    "            j=i-1\n",
    "            while Vmodp[i-1] == Vmodp[j] and j>=0:\n",
    "                mapping[j] = min_val_idx\n",
    "                j-=1\n",
    "            min_val_idx = i\n",
    "    idx.append(min_val_idx)\n",
    "    j=len(V)-1\n",
    "    while Vmodp[len(V)-1] == Vmodp[j] and j>=0:\n",
    "        mapping[j] = min_val_idx\n",
    "        j-=1\n",
    "    return V[idx],idx,mapping\n",
    "def update_S(S_tag,T,idx,mapping,p):\n",
    "    S = np.zeros(len(mapping))\n",
    "    S[idx] = S_tag\n",
    "    for i,min_j in mapping.items():\n",
    "        S[i] = S[min_j] + (T[i]-T[min_j])/p\n",
    "    return S"
   ]
  },
  {
   "cell_type": "code",
   "execution_count": 5,
   "id": "compact-tablet",
   "metadata": {},
   "outputs": [],
   "source": [
    "def base_dels(t, p):\n",
    "    return np.ceil(t / p) * p - t\n",
    "def base_amps(t, p):\n",
    "    return t - np.floor(t / p) * p\n",
    "def additional_ops(ti, tprev, si, sprev, p):\n",
    "    if p * si < ti:\n",
    "        # amplifications needed\n",
    "        if p * sprev < tprev:\n",
    "            # we can reuse some of the amps for tprev\n",
    "            return np.max((0, (ti - p * si) - (tprev - p * sprev)))\n",
    "        else:\n",
    "            return ti - p * si\n",
    "    elif p * si > ti:\n",
    "        # deletions needed\n",
    "        if p * sprev > tprev:\n",
    "            return np.max((0, (p * si - ti) - (p * sprev - tprev)))\n",
    "        else:\n",
    "            return p * si - ti\n",
    "    else:\n",
    "        return 0"
   ]
  },
  {
   "cell_type": "code",
   "execution_count": 6,
   "id": "attempted-ground",
   "metadata": {},
   "outputs": [],
   "source": [
    "def odd_runs(V):\n",
    "    num_odd_runs = 0\n",
    "    odd = False\n",
    "    for t in V:\n",
    "        if t % 2 == 1:\n",
    "            if not odd:\n",
    "                num_odd_runs += 1\n",
    "                odd = True\n",
    "        else:\n",
    "            odd = False\n",
    "    return num_odd_runs"
   ]
  },
  {
   "cell_type": "code",
   "execution_count": 7,
   "id": "wicked-darwin",
   "metadata": {},
   "outputs": [],
   "source": [
    "def cnd_halving(T):\n",
    "    S = np.ceil(T / 2.0)\n",
    "    return odd_runs(T), S"
   ]
  },
  {
   "cell_type": "code",
   "execution_count": 8,
   "id": "spoken-projector",
   "metadata": {},
   "outputs": [],
   "source": [
    "def reconstruct_indexes(C, m):\n",
    "    n = C.shape[0]\n",
    "    a = C[n-1].argmin()\n",
    "    x = m[n-1, a]\n",
    "    i = n-1\n",
    "    while i >= 2:\n",
    "        i -= 1\n",
    "        x = m[i, int(x)]\n",
    "        yield int(x)"
   ]
  },
  {
   "cell_type": "code",
   "execution_count": 9,
   "id": "broad-touch",
   "metadata": {},
   "outputs": [],
   "source": [
    "def cnd_aliquoting_I(T, p=2):\n",
    "    \"\"\" This version takes O(n^2) time.\n",
    "    does not handle zero coords properly; preprocess to remove them. \"\"\"\n",
    "    n = len(T)\n",
    "    C = np.empty((n, 2*n))\n",
    "    C[:] = np.inf\n",
    "    m = np.empty((n, 2*n), dtype=int)\n",
    "    m[:] = -1\n",
    "    for i in range(n):\n",
    "        ti = T[i]\n",
    "        \n",
    "        for x in range(2*n):\n",
    "            # if x < n, then we are doing base + x*p amplifications.\n",
    "            # if x >= n, then we are doing base + (x - n)*p deletions.\n",
    "            idx = x\n",
    "            o = x if x < n else (x - n)\n",
    "            # x uniquely determines si for our kind of solution\n",
    "            si = (np.floor(ti / p) - o) if x < n else (np.ceil(ti / p) + o)\n",
    "            if si <= 0:\n",
    "                C[i, idx] = np.inf\n",
    "            else:\n",
    "                if i == 0:\n",
    "                    C[i, idx] = np.abs(p*si - ti)\n",
    "                else:\n",
    "                    \n",
    "                    argmin = None\n",
    "                    val = np.inf\n",
    "\n",
    "                    if x >= n: # n - x deletions\n",
    "                        ops = base_dels(T[i], p) + o * p\n",
    "                        prev_base_ops = base_dels(T[i-1], p)\n",
    "                        y1_idx = n + int(np.ceil((ops - prev_base_ops) / p))\n",
    "                        y2_idx = n + int(np.floor((ops - prev_base_ops) / p))\n",
    "                        \n",
    "                    else:\n",
    "                        ops = base_amps(T[i], p) + o * p\n",
    "                        prev_base_ops = base_amps(T[i-1], p)\n",
    "                        y1_idx = int(np.ceil((ops - prev_base_ops) / p))\n",
    "                        if T[i-1] - prev_base_ops - y1_idx * p < p:\n",
    "                            y1_idx = 0\n",
    "                        y2_idx = int(np.floor((ops - prev_base_ops) / p))\n",
    "                        y2_idx = min(int(np.floor((T[i-1]) / p))-1, y2_idx)\n",
    "                        \n",
    "                    for y in [y1_idx, y2_idx, 0, n]:\n",
    "                        if (y < 0) or (y >= 2*n): continue\n",
    "                        if y < n:\n",
    "                            additional = additional_ops(ti, T[i-1], si, np.floor(T[i-1] / p) - y, p)\n",
    "                        else:\n",
    "                            additional = additional_ops(ti, T[i-1], si, np.ceil(T[i-1] / p) + (y - n), p)\n",
    "                        ops = C[i-1, y] + additional\n",
    "                        if ops < val:\n",
    "                            val = ops\n",
    "                            argmin = y\n",
    "\n",
    "                    C[i, idx] = val\n",
    "                    m[i, idx] = argmin\n",
    "                    \n",
    "                        \n",
    "    # reconstruct preduplication profile\n",
    "    a = C[n-1].argmin()\n",
    "    x = m[n-1, a]\n",
    "    l = reversed([a, int(x)] + list(reconstruct_indexes(C, m)))\n",
    "    S = list(map(lambda x: (np.floor(x[0] / p) - x[1]) if x[1] < n \n",
    "                 else (np.ceil(x[0] / p) + (x[1] - n)), zip(T,l)))\n",
    "    S = np.array(S)\n",
    "    \n",
    "    return C[n-1].min(), S, C, m"
   ]
  },
  {
   "cell_type": "code",
   "execution_count": 10,
   "id": "pleasant-portfolio",
   "metadata": {},
   "outputs": [],
   "source": [
    "\n",
    "def cnd_aliquoting_dp(T, p=2, plot=False):\n",
    "    \"\"\" This version takes O(n^3) time.\n",
    "    does not handle zero coords properly; exclude them. \"\"\"\n",
    "    n = len(T)\n",
    "    C = np.empty((n, 2*n))\n",
    "    C[:] = np.inf\n",
    "    m = np.empty((n, 2*n))\n",
    "    m[:] = np.nan\n",
    "    for i in range(n):\n",
    "        ti = T[i]\n",
    "        \n",
    "        for x in range(2*n):\n",
    "            # if x < n, then we are doing x amplifications.\n",
    "            # if x >= n, then we are doing x - n deletions.\n",
    "            idx = x\n",
    "            o = x if x < n else (x - n)\n",
    "            # x uniquely determines si for our kind of solution\n",
    "            si = (np.floor(ti / p) - o) if x < n else (np.ceil(ti / p) + o)\n",
    "            if si <= 0:\n",
    "                C[i, idx] = np.inf\n",
    "            else:\n",
    "                if i == 0:\n",
    "                    C[i, idx] = np.abs(p*si - ti)\n",
    "                else:\n",
    "                    argmin = None\n",
    "                    val = np.inf\n",
    "                    for y in range(n):\n",
    "                        ops = C[i-1, y] + additional_ops(ti, T[i-1], si, np.floor(T[i-1] / p) - y, p)\n",
    "                        if ops < val:\n",
    "                            val = ops\n",
    "                            argmin = y\n",
    "                    for y in range(n):\n",
    "                        ops = C[i-1, n+y] + additional_ops(ti, T[i-1], si, np.ceil(T[i-1] / p) + y, p)\n",
    "                        if ops < val:\n",
    "                            val = ops\n",
    "                            argmin = y+n\n",
    "                    C[i, idx] = val\n",
    "                    m[i, idx] = argmin\n",
    "            \n",
    "    a = C[n-1].argmin()\n",
    "    x = m[n-1, a]\n",
    "    l = [int(x), a]\n",
    "    i = n-1\n",
    "    # print CNT\n",
    "    while i >= 2:\n",
    "        i -= 1\n",
    "        x = m[i, int(x)]\n",
    "        l = [int(x)] + l\n",
    "    S = []\n",
    "    for (_T,_l) in zip(T,l):\n",
    "        z = None\n",
    "        if _l < n:\n",
    "            z = np.floor(_T / p) - _l\n",
    "        else:\n",
    "            z = np.ceil(_T / p) + (_l - n)\n",
    "        S = S + [z]\n",
    "    S = np.array(S)\n",
    "    pS = p * S\n",
    "    if plot:\n",
    "        ax = plt.figure().gca()\n",
    "        ax.yaxis.get_major_locator().set_params(integer=True) \n",
    "        plt.bar(range(n), (T - pS))\n",
    "        plt.grid(True, axis='y')\n",
    "        plt.show()\n",
    "        plt.close()\n",
    "    return C[n-1].min(), m, S, C"
   ]
  },
  {
   "cell_type": "code",
   "execution_count": 11,
   "id": "played-employee",
   "metadata": {},
   "outputs": [],
   "source": [
    "def get_cnt(n, num):\n",
    "    for _ in range(num):\n",
    "        length = np.random.randint(1,n+1)\n",
    "        start = np.random.randint(1, n+2-length)\n",
    "        if np.random.rand() < 0.75: # deletions\n",
    "            yield (start, start+length-1, -1)\n",
    "        else: # amplifications\n",
    "            yield (start, start+length-1, +1)"
   ]
  },
  {
   "cell_type": "code",
   "execution_count": 12,
   "id": "pleased-billion",
   "metadata": {},
   "outputs": [],
   "source": [
    "class ZeroException(Exception):\n",
    "    pass\n",
    "\n",
    "def apply_cnt(S, cnt):\n",
    "    S2 = np.copy(S)\n",
    "    for (start,end,w) in cnt:\n",
    "        if w == -1:\n",
    "            if 1 in S2[start-1:end]:\n",
    "                raise ZeroException()\n",
    "            else:\n",
    "                S2[start-1:end] -= 1\n",
    "        else: # w == 1\n",
    "            S2[start-1:end] += 1\n",
    "    return S2"
   ]
  },
  {
   "cell_type": "code",
   "execution_count": 13,
   "id": "korean-resolution",
   "metadata": {},
   "outputs": [],
   "source": [
    "def gen_T(n, p, k, num):\n",
    "    for _ in range(num):\n",
    "        S = np.random.randint(1,6,size=(n,))\n",
    "        pS = p * S\n",
    "        T = None\n",
    "        while True:\n",
    "            try:\n",
    "                cnt = list(get_cnt(n, k))\n",
    "                T = apply_cnt(pS, cnt)\n",
    "                break\n",
    "            except ZeroException:\n",
    "                continue\n",
    "        assert T is not None\n",
    "        cnd = DirectedCopyNumberDistanceLinear(pS,T)\n",
    "        yield (S, T, cnt, cnd)"
   ]
  },
  {
   "cell_type": "code",
   "execution_count": 14,
   "id": "perceived-winter",
   "metadata": {},
   "outputs": [
    {
     "data": {
      "application/vnd.jupyter.widget-view+json": {
       "model_id": "46856ebc7a9d44968922a4fa3d57a2e0",
       "version_major": 2,
       "version_minor": 0
      },
      "text/plain": [
       "n:   0%|          | 0/3 [00:00<?, ?it/s]"
      ]
     },
     "metadata": {},
     "output_type": "display_data"
    },
    {
     "data": {
      "application/vnd.jupyter.widget-view+json": {
       "model_id": "7b22392bbe1945a98e49589f4635fbc7",
       "version_major": 2,
       "version_minor": 0
      },
      "text/plain": [
       "p:   0%|          | 0/3 [00:00<?, ?it/s]"
      ]
     },
     "metadata": {},
     "output_type": "display_data"
    },
    {
     "data": {
      "application/vnd.jupyter.widget-view+json": {
       "model_id": "8426b3a20c2a49df84cbf1adc187b8a0",
       "version_major": 2,
       "version_minor": 0
      },
      "text/plain": [
       "k:   0%|          | 0/3 [00:00<?, ?it/s]"
      ]
     },
     "metadata": {},
     "output_type": "display_data"
    },
    {
     "data": {
      "application/vnd.jupyter.widget-view+json": {
       "model_id": "d4188591ddf44e5e869d46bb261d1522",
       "version_major": 2,
       "version_minor": 0
      },
      "text/plain": [
       "  0%|          | 0/100 [00:00<?, ?it/s]"
      ]
     },
     "metadata": {},
     "output_type": "display_data"
    },
    {
     "data": {
      "application/vnd.jupyter.widget-view+json": {
       "model_id": "5b4e2a59081e4cfdafa0ac83039fa797",
       "version_major": 2,
       "version_minor": 0
      },
      "text/plain": [
       "  0%|          | 0/100 [00:00<?, ?it/s]"
      ]
     },
     "metadata": {},
     "output_type": "display_data"
    },
    {
     "data": {
      "application/vnd.jupyter.widget-view+json": {
       "model_id": "bb3e499c75414b9ebee84b9b9dcc46cc",
       "version_major": 2,
       "version_minor": 0
      },
      "text/plain": [
       "  0%|          | 0/100 [00:00<?, ?it/s]"
      ]
     },
     "metadata": {},
     "output_type": "display_data"
    },
    {
     "data": {
      "application/vnd.jupyter.widget-view+json": {
       "model_id": "6e4d8c3fd4e1444c80df76cbdab5569d",
       "version_major": 2,
       "version_minor": 0
      },
      "text/plain": [
       "k:   0%|          | 0/3 [00:00<?, ?it/s]"
      ]
     },
     "metadata": {},
     "output_type": "display_data"
    },
    {
     "data": {
      "application/vnd.jupyter.widget-view+json": {
       "model_id": "fdb115742c084693bb3605d986ed4df6",
       "version_major": 2,
       "version_minor": 0
      },
      "text/plain": [
       "  0%|          | 0/100 [00:00<?, ?it/s]"
      ]
     },
     "metadata": {},
     "output_type": "display_data"
    },
    {
     "data": {
      "application/vnd.jupyter.widget-view+json": {
       "model_id": "78ef149e0bc84b8db8a5ebf68d9b5281",
       "version_major": 2,
       "version_minor": 0
      },
      "text/plain": [
       "  0%|          | 0/100 [00:00<?, ?it/s]"
      ]
     },
     "metadata": {},
     "output_type": "display_data"
    },
    {
     "data": {
      "application/vnd.jupyter.widget-view+json": {
       "model_id": "3770fd7a79fe4e6bac561869d3de4a0c",
       "version_major": 2,
       "version_minor": 0
      },
      "text/plain": [
       "  0%|          | 0/100 [00:00<?, ?it/s]"
      ]
     },
     "metadata": {},
     "output_type": "display_data"
    },
    {
     "data": {
      "application/vnd.jupyter.widget-view+json": {
       "model_id": "33047a69c4ed4d61a9e394458537caa1",
       "version_major": 2,
       "version_minor": 0
      },
      "text/plain": [
       "k:   0%|          | 0/3 [00:00<?, ?it/s]"
      ]
     },
     "metadata": {},
     "output_type": "display_data"
    },
    {
     "data": {
      "application/vnd.jupyter.widget-view+json": {
       "model_id": "c57c63531b0a42f2bb210799211706ce",
       "version_major": 2,
       "version_minor": 0
      },
      "text/plain": [
       "  0%|          | 0/100 [00:00<?, ?it/s]"
      ]
     },
     "metadata": {},
     "output_type": "display_data"
    },
    {
     "data": {
      "application/vnd.jupyter.widget-view+json": {
       "model_id": "287e121bad4a4f68b68871df8f0d8437",
       "version_major": 2,
       "version_minor": 0
      },
      "text/plain": [
       "  0%|          | 0/100 [00:00<?, ?it/s]"
      ]
     },
     "metadata": {},
     "output_type": "display_data"
    },
    {
     "data": {
      "application/vnd.jupyter.widget-view+json": {
       "model_id": "3642197c07a24c70bc1aa7fbd84f1ed6",
       "version_major": 2,
       "version_minor": 0
      },
      "text/plain": [
       "  0%|          | 0/100 [00:00<?, ?it/s]"
      ]
     },
     "metadata": {},
     "output_type": "display_data"
    },
    {
     "data": {
      "application/vnd.jupyter.widget-view+json": {
       "model_id": "6612d13e922a44368173e1c4b339fad3",
       "version_major": 2,
       "version_minor": 0
      },
      "text/plain": [
       "p:   0%|          | 0/3 [00:00<?, ?it/s]"
      ]
     },
     "metadata": {},
     "output_type": "display_data"
    },
    {
     "data": {
      "application/vnd.jupyter.widget-view+json": {
       "model_id": "0eaafe7f73ee4e5e901002caffc0f595",
       "version_major": 2,
       "version_minor": 0
      },
      "text/plain": [
       "k:   0%|          | 0/3 [00:00<?, ?it/s]"
      ]
     },
     "metadata": {},
     "output_type": "display_data"
    },
    {
     "data": {
      "application/vnd.jupyter.widget-view+json": {
       "model_id": "fd2d0472c62347bf9df9980f97acf05d",
       "version_major": 2,
       "version_minor": 0
      },
      "text/plain": [
       "  0%|          | 0/100 [00:00<?, ?it/s]"
      ]
     },
     "metadata": {},
     "output_type": "display_data"
    },
    {
     "data": {
      "application/vnd.jupyter.widget-view+json": {
       "model_id": "2a1c2102e5a34ac1ab206888a2bd735f",
       "version_major": 2,
       "version_minor": 0
      },
      "text/plain": [
       "  0%|          | 0/100 [00:00<?, ?it/s]"
      ]
     },
     "metadata": {},
     "output_type": "display_data"
    },
    {
     "data": {
      "application/vnd.jupyter.widget-view+json": {
       "model_id": "580208dbac004f1d9241db8a82939979",
       "version_major": 2,
       "version_minor": 0
      },
      "text/plain": [
       "  0%|          | 0/100 [00:00<?, ?it/s]"
      ]
     },
     "metadata": {},
     "output_type": "display_data"
    },
    {
     "data": {
      "application/vnd.jupyter.widget-view+json": {
       "model_id": "328d7958932a400c92337b6ed29be138",
       "version_major": 2,
       "version_minor": 0
      },
      "text/plain": [
       "k:   0%|          | 0/3 [00:00<?, ?it/s]"
      ]
     },
     "metadata": {},
     "output_type": "display_data"
    },
    {
     "data": {
      "application/vnd.jupyter.widget-view+json": {
       "model_id": "203d9edb698f405aa04cf13fc90c6168",
       "version_major": 2,
       "version_minor": 0
      },
      "text/plain": [
       "  0%|          | 0/100 [00:00<?, ?it/s]"
      ]
     },
     "metadata": {},
     "output_type": "display_data"
    },
    {
     "data": {
      "application/vnd.jupyter.widget-view+json": {
       "model_id": "c906a3a7783b4302b087fb99250de787",
       "version_major": 2,
       "version_minor": 0
      },
      "text/plain": [
       "  0%|          | 0/100 [00:00<?, ?it/s]"
      ]
     },
     "metadata": {},
     "output_type": "display_data"
    },
    {
     "data": {
      "application/vnd.jupyter.widget-view+json": {
       "model_id": "7fbc4bec4a1e4b4d80a33814114fc253",
       "version_major": 2,
       "version_minor": 0
      },
      "text/plain": [
       "  0%|          | 0/100 [00:00<?, ?it/s]"
      ]
     },
     "metadata": {},
     "output_type": "display_data"
    },
    {
     "data": {
      "application/vnd.jupyter.widget-view+json": {
       "model_id": "4375850ffc9446b6978068f4e469512f",
       "version_major": 2,
       "version_minor": 0
      },
      "text/plain": [
       "k:   0%|          | 0/3 [00:00<?, ?it/s]"
      ]
     },
     "metadata": {},
     "output_type": "display_data"
    },
    {
     "data": {
      "application/vnd.jupyter.widget-view+json": {
       "model_id": "65a3b7c2d45e41d08d1e6d48460a5d76",
       "version_major": 2,
       "version_minor": 0
      },
      "text/plain": [
       "  0%|          | 0/100 [00:00<?, ?it/s]"
      ]
     },
     "metadata": {},
     "output_type": "display_data"
    },
    {
     "data": {
      "application/vnd.jupyter.widget-view+json": {
       "model_id": "52e0ae421d024e8ebf245cfbdd06c2cb",
       "version_major": 2,
       "version_minor": 0
      },
      "text/plain": [
       "  0%|          | 0/100 [00:00<?, ?it/s]"
      ]
     },
     "metadata": {},
     "output_type": "display_data"
    },
    {
     "data": {
      "application/vnd.jupyter.widget-view+json": {
       "model_id": "6d8dd782123647b0ba4778667ec0a9cf",
       "version_major": 2,
       "version_minor": 0
      },
      "text/plain": [
       "  0%|          | 0/100 [00:00<?, ?it/s]"
      ]
     },
     "metadata": {},
     "output_type": "display_data"
    },
    {
     "data": {
      "application/vnd.jupyter.widget-view+json": {
       "model_id": "e954d25408664d3fb6623fe94ec83626",
       "version_major": 2,
       "version_minor": 0
      },
      "text/plain": [
       "p:   0%|          | 0/3 [00:00<?, ?it/s]"
      ]
     },
     "metadata": {},
     "output_type": "display_data"
    },
    {
     "data": {
      "application/vnd.jupyter.widget-view+json": {
       "model_id": "275dc26b967c4718a1ee448493bb967f",
       "version_major": 2,
       "version_minor": 0
      },
      "text/plain": [
       "k:   0%|          | 0/3 [00:00<?, ?it/s]"
      ]
     },
     "metadata": {},
     "output_type": "display_data"
    },
    {
     "data": {
      "application/vnd.jupyter.widget-view+json": {
       "model_id": "48b0d66655d541249e1a8d8340380dd1",
       "version_major": 2,
       "version_minor": 0
      },
      "text/plain": [
       "  0%|          | 0/100 [00:00<?, ?it/s]"
      ]
     },
     "metadata": {},
     "output_type": "display_data"
    },
    {
     "data": {
      "application/vnd.jupyter.widget-view+json": {
       "model_id": "1874f85078e54b3d8f474849da16d4e8",
       "version_major": 2,
       "version_minor": 0
      },
      "text/plain": [
       "  0%|          | 0/100 [00:00<?, ?it/s]"
      ]
     },
     "metadata": {},
     "output_type": "display_data"
    },
    {
     "data": {
      "application/vnd.jupyter.widget-view+json": {
       "model_id": "22c51c790acd4699b6fe8dc7fe67f9de",
       "version_major": 2,
       "version_minor": 0
      },
      "text/plain": [
       "  0%|          | 0/100 [00:00<?, ?it/s]"
      ]
     },
     "metadata": {},
     "output_type": "display_data"
    },
    {
     "data": {
      "application/vnd.jupyter.widget-view+json": {
       "model_id": "09491ad92dd34d799d30b559a321b9e9",
       "version_major": 2,
       "version_minor": 0
      },
      "text/plain": [
       "k:   0%|          | 0/3 [00:00<?, ?it/s]"
      ]
     },
     "metadata": {},
     "output_type": "display_data"
    },
    {
     "data": {
      "application/vnd.jupyter.widget-view+json": {
       "model_id": "8690628282e6492f92eb734b2bf56639",
       "version_major": 2,
       "version_minor": 0
      },
      "text/plain": [
       "  0%|          | 0/100 [00:00<?, ?it/s]"
      ]
     },
     "metadata": {},
     "output_type": "display_data"
    },
    {
     "data": {
      "application/vnd.jupyter.widget-view+json": {
       "model_id": "3dd545acb74f43cbae63b2d8832296de",
       "version_major": 2,
       "version_minor": 0
      },
      "text/plain": [
       "  0%|          | 0/100 [00:00<?, ?it/s]"
      ]
     },
     "metadata": {},
     "output_type": "display_data"
    },
    {
     "data": {
      "application/vnd.jupyter.widget-view+json": {
       "model_id": "2687356e3be54646bff36c84eea7467e",
       "version_major": 2,
       "version_minor": 0
      },
      "text/plain": [
       "  0%|          | 0/100 [00:00<?, ?it/s]"
      ]
     },
     "metadata": {},
     "output_type": "display_data"
    },
    {
     "data": {
      "application/vnd.jupyter.widget-view+json": {
       "model_id": "246c1e16dd4640a1a4e39aa126143f4f",
       "version_major": 2,
       "version_minor": 0
      },
      "text/plain": [
       "k:   0%|          | 0/3 [00:00<?, ?it/s]"
      ]
     },
     "metadata": {},
     "output_type": "display_data"
    },
    {
     "data": {
      "application/vnd.jupyter.widget-view+json": {
       "model_id": "94e8d8d1f648428f98a908b50267135f",
       "version_major": 2,
       "version_minor": 0
      },
      "text/plain": [
       "  0%|          | 0/100 [00:00<?, ?it/s]"
      ]
     },
     "metadata": {},
     "output_type": "display_data"
    },
    {
     "data": {
      "application/vnd.jupyter.widget-view+json": {
       "model_id": "65a71a81c2de424aae30df602eb5ed79",
       "version_major": 2,
       "version_minor": 0
      },
      "text/plain": [
       "  0%|          | 0/100 [00:00<?, ?it/s]"
      ]
     },
     "metadata": {},
     "output_type": "display_data"
    },
    {
     "data": {
      "application/vnd.jupyter.widget-view+json": {
       "model_id": "ba6050bc30c24a79a088a7977b29cd7e",
       "version_major": 2,
       "version_minor": 0
      },
      "text/plain": [
       "  0%|          | 0/100 [00:00<?, ?it/s]"
      ]
     },
     "metadata": {},
     "output_type": "display_data"
    }
   ],
   "source": [
    "outputs = []\n",
    "np.random.seed(2021)\n",
    "\n",
    "\n",
    "num = 100\n",
    "for n in tqdm([100,200,300], desc='n'):\n",
    "    for p in tqdm([2,3,4], desc='p'):\n",
    "        for k in tqdm([5,10, 15], desc='k'):\n",
    "            for S, T, cnt, cnd in tqdm(gen_T(n, p, k, num), total=num):\n",
    "                if p >= 3:\n",
    "                    start_time = timer()\n",
    "                    T_tag,idx,mapping = contract_mod_p(T,p)\n",
    "                    dist, S_tag = cnd_aliquoting_I(T_tag,p)[:2]\n",
    "                    S_ = update_S(S_tag,T,idx,mapping,p)\n",
    "                    end_time = timer()\n",
    "                    T_runs = len(T_tag)\n",
    "                else: # p == 2\n",
    "                    start_time = timer()\n",
    "                    dist, S_ = cnd_halving(T)\n",
    "                    end_time = timer()\n",
    "                    T_runs = odd_runs(T)\n",
    "                time_elapsed = end_time - start_time\n",
    "                predup_dist = DirectedCopyNumberDistanceLinear(S, S_)\n",
    "                outputs.append({\n",
    "                    'n': n,\n",
    "                    'p': p,\n",
    "                    'k': k,\n",
    "                    'S': S,\n",
    "                    'T': T,\n",
    "                    'T_runs': T_runs,\n",
    "                    'cnt': cnt,\n",
    "                    'd(pS,T)': cnd,\n",
    "                    'n2_time': time_elapsed,\n",
    "                    'S_': S_,\n",
    "                    'd(pS_,T)': dist,\n",
    "                    'd(S_,S)': predup_dist,\n",
    "                })"
   ]
  },
  {
   "cell_type": "code",
   "execution_count": 15,
   "id": "previous-barrier",
   "metadata": {},
   "outputs": [],
   "source": [
    "df = pd.DataFrame.from_records(outputs)"
   ]
  },
  {
   "cell_type": "code",
   "execution_count": 16,
   "id": "moved-craft",
   "metadata": {},
   "outputs": [],
   "source": [
    "df.to_pickle('outputs.pkl')"
   ]
  }
 ],
 "metadata": {
  "kernelspec": {
   "display_name": "Python 3",
   "language": "python",
   "name": "python3"
  },
  "language_info": {
   "codemirror_mode": {
    "name": "ipython",
    "version": 3
   },
   "file_extension": ".py",
   "mimetype": "text/x-python",
   "name": "python",
   "nbconvert_exporter": "python",
   "pygments_lexer": "ipython3",
   "version": "3.9.2"
  }
 },
 "nbformat": 4,
 "nbformat_minor": 5
}
